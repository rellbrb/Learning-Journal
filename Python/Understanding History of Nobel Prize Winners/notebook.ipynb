{
 "cells": [
  {
   "cell_type": "markdown",
   "id": "db5bd2ce-918a-4f7d-a927-a3ea74c4b456",
   "metadata": {},
   "source": [
    "The Nobel Prize has been among the most prestigious international awards since 1901. Each year, awards are bestowed in chemistry, literature, physics, physiology or medicine, economics, and peace. In addition to the honor, prestige, and substantial prize money, the recipient also gets a gold medal with an image of Alfred Nobel (1833 - 1896), who established the prize.\n",
    "\n",
    "![](Nobel_Prize.png)\n",
    "\n",
    "The Nobel Foundation has made a dataset available of all prize winners from the outset of the awards from 1901 to 2023. The dataset used in this project is from the Nobel Prize API and is available in the `nobel.csv` file in the `data` folder.\n",
    "\n",
    "In this project, you'll get a chance to explore and answer several questions related to this prizewinning data. And we encourage you then to explore further questions that you're interested in!"
   ]
  },
  {
   "cell_type": "code",
   "execution_count": 18,
   "id": "11fd5946-7bd1-495c-aa7f-ff6e7e4a350b",
   "metadata": {
    "executionCancelledAt": null,
    "executionTime": 27,
    "lastExecutedAt": 1754951402117,
    "lastExecutedByKernel": "5e26b2b5-4d02-4fca-b997-930cf268c37c",
    "lastScheduledRunId": null,
    "lastSuccessfullyExecutedCode": "# Loading in required libraries\nimport pandas as pd\nimport seaborn as sns\nimport numpy as np\nimport matplotlib.pyplot as plt\n\n# Start coding here!\nnobel = pd.read_csv('data/nobel.csv')\nprint(nobel.columns.value_counts())",
    "outputsMetadata": {
     "0": {
      "height": 416,
      "type": "stream"
     }
    }
   },
   "outputs": [
    {
     "name": "stdout",
     "output_type": "stream",
     "text": [
      "year                    1\n",
      "category                1\n",
      "death_city              1\n",
      "death_date              1\n",
      "organization_country    1\n",
      "organization_city       1\n",
      "organization_name       1\n",
      "sex                     1\n",
      "birth_country           1\n",
      "birth_city              1\n",
      "birth_date              1\n",
      "full_name               1\n",
      "laureate_type           1\n",
      "laureate_id             1\n",
      "prize_share             1\n",
      "motivation              1\n",
      "prize                   1\n",
      "death_country           1\n",
      "Name: count, dtype: int64\n"
     ]
    }
   ],
   "source": [
    "# Loading in required libraries\n",
    "import pandas as pd\n",
    "import seaborn as sns\n",
    "import numpy as np\n",
    "import matplotlib.pyplot as plt\n",
    "\n",
    "# Import the data\n",
    "nobel = pd.read_csv('nobel.csv')\n",
    "print(nobel.columns.value_counts())"
   ]
  },
  {
   "cell_type": "code",
   "execution_count": 19,
   "id": "2dc5696c-aa89-4a20-95c0-9f4a46758df9",
   "metadata": {
    "executionCancelledAt": null,
    "executionTime": 57,
    "lastExecutedAt": 1754951402174,
    "lastExecutedByKernel": "5e26b2b5-4d02-4fca-b997-930cf268c37c",
    "lastScheduledRunId": null,
    "lastSuccessfullyExecutedCode": "# Find the most occurring gender and birth country\ntop_gender = nobel['sex'].value_counts().index[0]\ntop_country = nobel['birth_country'].value_counts().index[0]\n\n#Print the findings as f-strings\nprint(f'The most commonly awarded gender is {top_gender}')\nprint(f'The most commonly awarded birth country is {top_country}')",
    "outputsMetadata": {
     "0": {
      "height": 59,
      "type": "stream"
     },
     "1": {
      "height": 550,
      "tableState": {
       "customFilter": {
        "const": {
         "type": "boolean",
         "valid": true,
         "value": true
        },
        "id": "9532c72c-fb04-452c-85f8-1cd7f7bc72a7",
        "nodeType": "const"
       }
      },
      "type": "dataFrame"
     }
    },
    "version": "ag-charts-v1",
    "visualizeDataframe": false
   },
   "outputs": [
    {
     "name": "stdout",
     "output_type": "stream",
     "text": [
      "The most commonly awarded gender is Male\n",
      "The most commonly awarded birth country is United States of America\n"
     ]
    }
   ],
   "source": [
    "# Find the most occurring gender and birth country\n",
    "top_gender = nobel['sex'].value_counts().index[0]\n",
    "top_country = nobel['birth_country'].value_counts().index[0]\n",
    "\n",
    "#Print the findings as f-strings\n",
    "print(f'The most commonly awarded gender is {top_gender}')\n",
    "print(f'The most commonly awarded birth country is {top_country}')"
   ]
  },
  {
   "cell_type": "code",
   "execution_count": 20,
   "id": "92c32adf-4102-4a86-b759-b3f493c54650",
   "metadata": {
    "collapsed": false,
    "executionCancelledAt": null,
    "executionTime": 57,
    "jupyter": {
     "outputs_hidden": false,
     "source_hidden": false
    },
    "lastExecutedAt": 1754951402231,
    "lastExecutedByKernel": "5e26b2b5-4d02-4fca-b997-930cf268c37c",
    "lastScheduledRunId": null,
    "lastSuccessfullyExecutedCode": "# Create a new column for the decade and for the winners born in the US \nnobel['decade'] = np.floor(nobel['year']/10)*10\nnobel['us-born'] = nobel['birth_country'] == 'United States of America'\n\n# Find the proportion of winners born in the US, grouping by decade \nprop = nobel.groupby('decade', as_index = False)['us-born'].mean()\n\n# Save the decade with the largest proportion as an integer\nmax_decade_usa = int(prop[prop['us-born'] == prop['us-born'].max()]['decade'])\nprint(f' {max_decade_usa} was the decade with the most US born winners ')",
    "outputsMetadata": {
     "0": {
      "height": 38,
      "type": "stream"
     },
     "1": {
      "height": 50,
      "tableState": {
       "customFilter": {
        "const": {
         "type": "boolean",
         "valid": true,
         "value": true
        },
        "id": "6bf41501-b817-446e-97c0-ab42768c260a",
        "nodeType": "const"
       }
      },
      "type": "dataFrame"
     }
    },
    "version": "ag-charts-v1",
    "visualizeDataframe": false
   },
   "outputs": [
    {
     "name": "stdout",
     "output_type": "stream",
     "text": [
      " 2000 was the decade with the most US born winners \n"
     ]
    }
   ],
   "source": [
    "# Create a new column for the decade and for the winners born in the US \n",
    "nobel['decade'] = np.floor(nobel['year']/10)*10\n",
    "nobel['us-born'] = nobel['birth_country'] == 'United States of America'\n",
    "\n",
    "# Find the proportion of winners born in the US, grouping by decade \n",
    "prop = nobel.groupby('decade', as_index = False)['us-born'].mean()\n",
    "\n",
    "# Save the decade with the largest proportion as an integer\n",
    "max_decade_usa = int(prop[prop['us-born'] == prop['us-born'].max()]['decade'].iloc[0])\n",
    "print(f' {max_decade_usa} was the decade with the most US born winners ')"
   ]
  },
  {
   "cell_type": "code",
   "execution_count": 21,
   "id": "d233b83f-c47b-4486-9b8b-498f20d97ed3",
   "metadata": {
    "executionCancelledAt": null,
    "executionTime": 59,
    "lastExecutedAt": 1754951402290,
    "lastExecutedByKernel": "5e26b2b5-4d02-4fca-b997-930cf268c37c",
    "lastScheduledRunId": null,
    "lastSuccessfullyExecutedCode": "# Create a column for winners who are female\nnobel['female'] = nobel['sex'] == 'Female'\n\n# Find the largest proportion of female winners, grouping by category and decade\nfemale_win = nobel.groupby(['category', 'decade'], as_index = False)['female'].mean()\nmax_female_win = female_win[female_win['female'] == female_win['female'].max()]\n\n# Put the Category and Decade combination with highest number of female winners in a Dictionary\nmax_female_category = max_female_win['category'].values[0]\nmax_female_decade = int(max_female_win['decade'].values)\nmax_female_dict = {max_female_decade:max_female_category}\nprint(max_female_dict)",
    "outputsMetadata": {
     "0": {
      "height": 38,
      "type": "stream"
     },
     "1": {
      "height": 500,
      "tableState": {},
      "type": "dataFrame"
     }
    }
   },
   "outputs": [
    {
     "name": "stdout",
     "output_type": "stream",
     "text": [
      "{2020: 'Literature'}\n"
     ]
    }
   ],
   "source": [
    "# Create a column for winners who are female\n",
    "nobel['female'] = nobel['sex'] == 'Female'\n",
    "\n",
    "# Find the largest proportion of female winners, grouping by category and decade\n",
    "female_win = nobel.groupby(['category', 'decade'], as_index = False)['female'].mean()\n",
    "max_female_win = female_win[female_win['female'] == female_win['female'].max()]\n",
    "\n",
    "# Put the Category and Decade combination with highest number of female winners in a Dictionary\n",
    "max_female_category = max_female_win['category'].iloc[0]\n",
    "max_female_decade = int(max_female_win['decade'].iloc[0])\n",
    "max_female_dict = {max_female_decade:max_female_category}\n",
    "print(max_female_dict)"
   ]
  },
  {
   "cell_type": "code",
   "execution_count": 22,
   "id": "f1ede499-8589-47b4-b3bc-8bf2350bf45e",
   "metadata": {
    "executionCancelledAt": null,
    "executionTime": 56,
    "lastExecutedAt": 1754951402346,
    "lastExecutedByKernel": "5e26b2b5-4d02-4fca-b997-930cf268c37c",
    "lastScheduledRunId": null,
    "lastSuccessfullyExecutedCode": "# Aggregate for the winners that are female\nfemale_only = nobel[nobel['sex'] == 'Female' ]\n\n# Find the Name of the winner and the category of the earliest prize  \nearliest_winner = female_only[female_only['year'] == female_only['year'].min()][['full_name', 'category']]\n\n# Store the name of the winner and category of the prize as an integer and string, respectively\nfirst_woman_name = earliest_winner.values[0,0]\nfirst_woman_category = earliest_winner.values[0,1]\nprint(f'{first_woman_name} was the first woman to win a Nobel Prize, which was in {first_woman_category}')",
    "outputsMetadata": {
     "0": {
      "height": 38,
      "type": "stream"
     }
    }
   },
   "outputs": [
    {
     "name": "stdout",
     "output_type": "stream",
     "text": [
      "Marie Curie, née Sklodowska was the first woman to win a Nobel Prize, which was in Physics\n"
     ]
    }
   ],
   "source": [
    "# Aggregate for the winners that are female\n",
    "female_only = nobel[nobel['sex'] == 'Female' ]\n",
    "\n",
    "# Find the Name of the winner and the category of the earliest prize  \n",
    "earliest_winner = female_only[female_only['year'] == female_only['year'].min()][['full_name', 'category']]\n",
    "\n",
    "# Store the name of the winner and category of the prize as an integer and string, respectively\n",
    "first_woman_name = earliest_winner.values[0,0]\n",
    "first_woman_category = earliest_winner.values[0,1]\n",
    "print(f'{first_woman_name} was the first woman to win a Nobel Prize, which was in {first_woman_category}')"
   ]
  },
  {
   "cell_type": "code",
   "execution_count": 23,
   "id": "e65c066c-f234-4155-b916-2b7e566bb96f",
   "metadata": {
    "executionCancelledAt": null,
    "executionTime": 53,
    "lastExecutedAt": 1754951402399,
    "lastExecutedByKernel": "5e26b2b5-4d02-4fca-b997-930cf268c37c",
    "lastScheduledRunId": null,
    "lastSuccessfullyExecutedCode": "# Create a new DataFrame containing the names of winners and how many times they won\nwinners = pd.DataFrame(nobel['full_name'].value_counts())\n\n# Stop the names from being the index \nwinners = winners.reset_index()\n\n# Rename columns\nwinners.columns = ['full_name', 'wins']\n\n# Aggregate for repeat winners\nrepeaters = winners[winners['wins']>1]\n\n# Create a list of the repeat winners\nrepeat_list = list(repeaters['full_name'].values)\nprint(repeat_list)",
    "outputsMetadata": {
     "0": {
      "height": 164,
      "type": "stream"
     }
    },
    "version": "ag-charts-v1",
    "visualizeDataframe": false
   },
   "outputs": [
    {
     "name": "stdout",
     "output_type": "stream",
     "text": [
      "['Comité international de la Croix Rouge (International Committee of the Red Cross)', 'Linus Carl Pauling', 'John Bardeen', 'Frederick Sanger', 'Marie Curie, née Sklodowska', 'Office of the United Nations High Commissioner for Refugees (UNHCR)']\n"
     ]
    }
   ],
   "source": [
    "# Create a new DataFrame containing the names of winners and how many times they won\n",
    "winners = pd.DataFrame(nobel['full_name'].value_counts())\n",
    "\n",
    "# Stop the names from being the index \n",
    "winners = winners.reset_index()\n",
    "\n",
    "# Rename columns\n",
    "winners.columns = ['full_name', 'wins']\n",
    "\n",
    "# Aggregate for repeat winners\n",
    "repeaters = winners[winners['wins']>1]\n",
    "\n",
    "# Create a list of the repeat winners\n",
    "repeat_list = list(repeaters['full_name'].values)\n",
    "print(repeat_list)"
   ]
  }
 ],
 "metadata": {
  "editor": "DataCamp Workspace",
  "kernelspec": {
   "display_name": "Python 3",
   "language": "python",
   "name": "python3"
  },
  "language_info": {
   "codemirror_mode": {
    "name": "ipython",
    "version": 3
   },
   "file_extension": ".py",
   "mimetype": "text/x-python",
   "name": "python",
   "nbconvert_exporter": "python",
   "pygments_lexer": "ipython3",
   "version": "3.12.2"
  }
 },
 "nbformat": 4,
 "nbformat_minor": 5
}
