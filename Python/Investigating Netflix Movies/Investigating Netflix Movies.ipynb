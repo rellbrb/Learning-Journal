{
 "cells": [
  {
   "cell_type": "markdown",
   "id": "937acf3c-c077-4ca6-8d90-8f6dd4d13c54",
   "metadata": {},
   "source": [
    "<center><img src=\"redpopcorn.jpg\"></center>"
   ]
  },
  {
   "cell_type": "markdown",
   "id": "5962b2cd-17bb-4ec9-b2d5-68537ca26860",
   "metadata": {},
   "source": [
    "**Netflix**! What started in 1997 as a DVD rental service has since exploded into one of the largest entertainment and media companies.\n",
    "\n",
    "Given the large number of movies and series available on the platform, it is a perfect opportunity to flex your exploratory data analysis skills and dive into the entertainment industry.\n",
    "\n",
    "You work for a production company that specializes in nostalgic styles. You want to do some research on movies released in the 1990's. You'll delve into Netflix data and perform exploratory data analysis to better understand this awesome movie decade!\n",
    "\n",
    "You have been supplied with the dataset `netflix_data.csv`, along with the following table detailing the column names and descriptions. Feel free to experiment further after submitting!\n",
    "\n",
    "## The data\n",
    "### **netflix_data.csv**\n",
    "| Column | Description |\n",
    "|--------|-------------|\n",
    "| `show_id` | The ID of the show |\n",
    "| `type` | Type of show |\n",
    "| `title` | Title of the show |\n",
    "| `director` | Director of the show |\n",
    "| `cast` | Cast of the show |\n",
    "| `country` | Country of origin |\n",
    "| `date_added` | Date added to Netflix |\n",
    "| `release_year` | Year of Netflix release |\n",
    "| `duration` | Duration of the show in minutes |\n",
    "| `description` | Description of the show |\n",
    "| `genre` | Show genre |"
   ]
  },
  {
   "cell_type": "markdown",
   "id": "19f29e26",
   "metadata": {},
   "source": [
    "## Project Instructions\n",
    "\n",
    "**Perform exploratory data analysis on the `netflix_data.csv` data to understand more about movies from the 1990s decade:**\n",
    "\n",
    "What was the most frequent movie duration in the 1990s? Save an approximate answer as an integer called `duration`(use 1990 as the decade's start year).\n",
    "\n",
    "A movie is considered short if it is less than 90 minutes. Count the number of short action movies released in the 1990s and save this integer as  `short_movie_count`."
   ]
  },
  {
   "cell_type": "code",
   "execution_count": 15,
   "id": "320a3abc-8a36-4b2b-baaf-473325363a4d",
   "metadata": {
    "executionCancelledAt": null,
    "executionTime": 43,
    "lastExecutedAt": 1752540965793,
    "lastExecutedByKernel": "7fb8c4c3-81aa-40b7-b00f-d928d831f080",
    "lastScheduledRunId": null,
    "lastSuccessfullyExecutedCode": "# Importing pandas and matplotlib\nimport pandas as pd\nimport matplotlib.pyplot as plt\n\n# Read in the Netflix CSV as a DataFrame\nnetflix_df = pd.read_csv(\"netflix_data.csv\")\nprint(netflix_df['release_year'].sort_values())",
    "outputsMetadata": {
     "0": {
      "height": 269,
      "type": "stream"
     }
    }
   },
   "outputs": [
    {
     "name": "stdout",
     "output_type": "stream",
     "text": [
      "3809    1942\n",
      "4513    1944\n",
      "2172    1945\n",
      "2269    1946\n",
      "4401    1947\n",
      "        ... \n",
      "4503    2020\n",
      "4688    2021\n",
      "4681    2021\n",
      "847     2021\n",
      "4031    2021\n",
      "Name: release_year, Length: 4812, dtype: int64\n"
     ]
    }
   ],
   "source": [
    "# Importing pandas and matplotlib\n",
    "import pandas as pd\n",
    "import matplotlib.pyplot as plt\n",
    "\n",
    "# Read in the Netflix CSV as a DataFrame\n",
    "netflix_df = pd.read_csv(\"netflix_data.csv\")\n",
    "print(netflix_df['release_year'].sort_values())"
   ]
  },
  {
   "cell_type": "code",
   "execution_count": 16,
   "id": "72658473-114f-49eb-bd4e-cc03c710834a",
   "metadata": {
    "executionCancelledAt": null,
    "executionTime": 49,
    "lastExecutedAt": 1752540965842,
    "lastExecutedByKernel": "7fb8c4c3-81aa-40b7-b00f-d928d831f080",
    "lastScheduledRunId": null,
    "lastSuccessfullyExecutedCode": "type = netflix_df[netflix_df['type'] == 'Movie']\ndecade = type[type['release_year']<2000]\ndecades = decade[decade['release_year']>=1990]\nduration = int(decades['duration'].mode())\nprint(duration)\n",
    "outputsMetadata": {
     "0": {
      "height": 38,
      "type": "stream"
     }
    }
   },
   "outputs": [
    {
     "name": "stdout",
     "output_type": "stream",
     "text": [
      "94\n"
     ]
    }
   ],
   "source": [
    "# Subset the netflix data by rows with the type 'Movie' and release_year between 1990 & 2000  \n",
    "subset = netflix_df[(netflix_df['type'] == 'Movie') & (netflix_df['release_year'] < 2000) & (netflix_df['release_year'] >= 1990)]['duration'].mode()\n",
    "\n",
    "# Save this value as an integer\n",
    "duration = int(subset[0])\n",
    "\n",
    "# Print the value\n",
    "print(duration)"
   ]
  },
  {
   "cell_type": "code",
   "execution_count": 17,
   "id": "bf331ff4-bbc8-471c-86fb-fe27e79e10c0",
   "metadata": {
    "executionCancelledAt": null,
    "executionTime": 52,
    "lastExecutedAt": 1752540965894,
    "lastExecutedByKernel": "7fb8c4c3-81aa-40b7-b00f-d928d831f080",
    "lastScheduledRunId": null,
    "lastSuccessfullyExecutedCode": "length = netflix_df[netflix_df['duration'] <90]\ngenre = length[length['genre'] == 'Action']\ntype = genre[genre['type'] == 'Movie']\ndecade = type[type['release_year']<2000]\nshort_movie_count = len(decade[decade['release_year']>=1990])\nprint(short_movie_count)",
    "outputsMetadata": {
     "0": {
      "height": 38,
      "type": "stream"
     }
    }
   },
   "outputs": [
    {
     "name": "stdout",
     "output_type": "stream",
     "text": [
      "74\n"
     ]
    }
   ],
   "source": [
    "# Subset the netflix data by rows with their duration less than 90 mins, their genre is Action, their type is Movie adn their releasse year is after 1990 \n",
    "short_movie = netflix_df[(netflix_df['duration'] < 90) & (netflix_df['genre'] == 'Action') & (netflix_df['type'] == 'Movie') & (netflix_df['release_year'] >= 1990)]\n",
    "\n",
    "# Calculate the number of rows\n",
    "short_movie_count = len(short_movie)\n",
    "\n",
    "# Print the number \n",
    "print(short_movie_count)"
   ]
  }
 ],
 "metadata": {
  "colab": {
   "name": "Welcome to DataCamp Workspaces.ipynb",
   "provenance": []
  },
  "editor": "DataLab",
  "kernelspec": {
   "display_name": "Python 3",
   "language": "python",
   "name": "python3"
  },
  "language_info": {
   "codemirror_mode": {
    "name": "ipython",
    "version": 3
   },
   "file_extension": ".py",
   "mimetype": "text/x-python",
   "name": "python",
   "nbconvert_exporter": "python",
   "pygments_lexer": "ipython3",
   "version": "3.12.2"
  }
 },
 "nbformat": 4,
 "nbformat_minor": 5
}
